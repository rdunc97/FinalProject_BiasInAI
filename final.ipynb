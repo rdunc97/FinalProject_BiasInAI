{
 "cells": [
  {
   "cell_type": "markdown",
   "source": [
    "<h2>Import the proper packages and clean data</h2>\n",
    "<p style=\"font-size:17px;\">bring in the dataset and display first few rows .</p>\n"
   ],
   "metadata": {
    "collapsed": false
   },
   "id": "13a2757a4d4c68eb"
  },
  {
   "cell_type": "code",
   "outputs": [],
   "source": [
    "import pandas as pd\n",
    "import numpy as np\n",
    "import sklearn.metrics as metric\n",
    "from sklearn import svm\n",
    "from sklearn.ensemble import RandomForestClassifier\n",
    "from sklearn.tree import DecisionTreeClassifier, export_graphviz\n",
    "from sklearn.model_selection import train_test_split, cross_val_score, cross_validate\n",
    "from sklearn.metrics import classification_report\n",
    "from sklearn.metrics import accuracy_score\n",
    "import matplotlib.pyplot as plt\n",
    "from aif360.datasets import BinaryLabelDataset\n",
    "from aif360.metrics import BinaryLabelDatasetMetric, ClassificationMetric\n",
    "from aif360.algorithms.preprocessing import Reweighing\n",
    "from fairlearn.metrics import MetricFrame, demographic_parity_difference, equalized_odds_difference, selection_rate, false_negative_rate, false_positive_rate\n",
    "from fairlearn.reductions import DemographicParity, GridSearch\n",
    "\n",
    "\n",
    "\n",
    "\n"
   ],
   "metadata": {
    "collapsed": false,
    "ExecuteTime": {
     "end_time": "2024-07-27T18:46:37.183107600Z",
     "start_time": "2024-07-27T18:46:37.138192100Z"
    }
   },
   "id": "6cbd4f9183438983",
   "execution_count": 194
  },
  {
   "cell_type": "code",
   "outputs": [
    {
     "name": "stdout",
     "output_type": "stream",
     "text": [
      "state                  float64\n",
      "communityname           object\n",
      "fold                   float64\n",
      "population             float64\n",
      "householdsize          float64\n",
      "                        ...   \n",
      "LandArea               float64\n",
      "PopDens                float64\n",
      "PctUsePubTrans         float64\n",
      "LemasPctOfficDrugUn    float64\n",
      "ViolentCrimesPerPop    float64\n",
      "Length: 104, dtype: object\n"
     ]
    }
   ],
   "source": [
    "crime_data = pd.read_csv('communities-crime-clean.csv')\n",
    "crime_data.head()\n",
    "numerical_cols = crime_data.select_dtypes(include=['int64', 'float64']).columns\n",
    "crime_data[numerical_cols] = crime_data[numerical_cols].astype(float)\n",
    "\n",
    "print(crime_data.dtypes)"
   ],
   "metadata": {
    "collapsed": false,
    "ExecuteTime": {
     "end_time": "2024-07-27T18:46:37.233936500Z",
     "start_time": "2024-07-27T18:46:37.186065200Z"
    }
   },
   "id": "4e109e4e090e1cbf",
   "execution_count": 195
  },
  {
   "cell_type": "markdown",
   "source": [
    "<h2>Distinguish A field \"High Crime\" which is True if the ViolentCrimesPerPop is more than 0.2</h2>\n",
    "\n",
    "<h2>For this project, we will use this number as an example and baseline to categorize an area as high crime. Official methods to determine this are likely more in depth.</h2>\n"
   ],
   "metadata": {
    "collapsed": false
   },
   "id": "27a12573cb6e3482"
  },
  {
   "cell_type": "code",
   "outputs": [
    {
     "name": "stdout",
     "output_type": "stream",
     "text": [
      "   state      communityname  fold  population  householdsize  racepctblack  \\\n",
      "0    1.0      Alabastercity   7.0        0.01           0.61          0.21   \n",
      "1    1.0  AlexanderCitycity  10.0        0.01           0.41          0.55   \n",
      "2    1.0       Annistoncity   3.0        0.03           0.34          0.86   \n",
      "3    1.0         Athenscity   8.0        0.01           0.38          0.35   \n",
      "4    1.0         Auburncity   1.0        0.04           0.37          0.32   \n",
      "\n",
      "   racePctWhite  racePctAsian  racePctHisp  agePct12t21  ...  PctSameHouse85  \\\n",
      "0          0.83          0.02         0.01         0.41  ...            0.40   \n",
      "1          0.57          0.01         0.00         0.47  ...            0.66   \n",
      "2          0.30          0.04         0.01         0.41  ...            0.59   \n",
      "3          0.71          0.04         0.01         0.39  ...            0.56   \n",
      "4          0.70          0.21         0.02         1.00  ...            0.12   \n",
      "\n",
      "   PctSameCity85  PctSameState85  LandArea  PopDens  PctUsePubTrans  \\\n",
      "0           0.34            0.57      0.05     0.06            0.01   \n",
      "1           0.82            0.84      0.11     0.03            0.01   \n",
      "2           0.70            0.64      0.06     0.11            0.04   \n",
      "3           0.67            0.71      0.09     0.05            0.00   \n",
      "4           0.00            0.15      0.09     0.09            0.01   \n",
      "\n",
      "   LemasPctOfficDrugUn  ViolentCrimesPerPop  highCrime  is_privileged  \n",
      "0                  0.0                 0.06      False           True  \n",
      "1                  0.0                 0.14      False          False  \n",
      "2                  0.0                 1.00       True          False  \n",
      "3                  0.0                 0.23       True           True  \n",
      "4                  0.0                 0.15      False           True  \n",
      "\n",
      "[5 rows x 106 columns]\n",
      "highCrime\n",
      "False    59.60863\n",
      "True     40.39137\n",
      "dtype: float64\n",
      "----------------\n",
      "Percentage Positive Instance = 40.39136979427998\n",
      "Percentage Negative Instance = 59.60863020572002 \n"
     ]
    },
    {
     "name": "stderr",
     "output_type": "stream",
     "text": [
      "C:\\Users\\ryand\\AppData\\Local\\Temp\\ipykernel_6460\\3948184154.py:7: PerformanceWarning: DataFrame is highly fragmented.  This is usually the result of calling `frame.insert` many times, which has poor performance.  Consider joining all columns at once using pd.concat(axis=1) instead. To get a de-fragmented frame, use `newframe = frame.copy()`\n",
      "  crime_data['highCrime'] = crime_data.apply(sethighCrime, axis=1)\n",
      "C:\\Users\\ryand\\AppData\\Local\\Temp\\ipykernel_6460\\3948184154.py:14: PerformanceWarning: DataFrame is highly fragmented.  This is usually the result of calling `frame.insert` many times, which has poor performance.  Consider joining all columns at once using pd.concat(axis=1) instead. To get a de-fragmented frame, use `newframe = frame.copy()`\n",
      "  crime_data['is_privileged'] = crime_data.apply(classify_privileged, axis=1)\n",
      "C:\\Users\\ryand\\AppData\\Local\\Temp\\ipykernel_6460\\3948184154.py:20: FutureWarning: Series.__getitem__ treating keys as positions is deprecated. In a future version, integer keys will always be treated as labels (consistent with DataFrame behavior). To access a value by position, use `ser.iloc[pos]`\n",
      "  print(\"Percentage Positive Instance = {}\\nPercentage Negative Instance = {} \".format(percentage_instances[1],percentage_instances[0]))\n"
     ]
    }
   ],
   "source": [
    "def sethighCrime(df):\n",
    "    if df['ViolentCrimesPerPop'] > 0.2:\n",
    "        return True\n",
    "    else:\n",
    "        return False\n",
    "    \n",
    "crime_data['highCrime'] = crime_data.apply(sethighCrime, axis=1)\n",
    "\n",
    "def classify_privileged(row):\n",
    "    if row['racepctblack'] > 0.5 or row['racePctHisp'] > 0.5:\n",
    "        return False\n",
    "    else:\n",
    "        return True\n",
    "crime_data['is_privileged'] = crime_data.apply(classify_privileged, axis=1)\n",
    "\n",
    "print(crime_data.head())\n",
    "percentage_instances = crime_data.groupby('highCrime').size() * 100 / len(crime_data)\n",
    "print(percentage_instances)\n",
    "print(\"----------------\")\n",
    "print(\"Percentage Positive Instance = {}\\nPercentage Negative Instance = {} \".format(percentage_instances[1],percentage_instances[0]))\n",
    "\n"
   ],
   "metadata": {
    "collapsed": false,
    "ExecuteTime": {
     "end_time": "2024-07-27T18:46:37.285797100Z",
     "start_time": "2024-07-27T18:46:37.236928800Z"
    }
   },
   "id": "e49a0a0380ffc6ba",
   "execution_count": 196
  },
  {
   "cell_type": "markdown",
   "source": [],
   "metadata": {
    "collapsed": false
   },
   "id": "7240b6c2a1f16dd6"
  },
  {
   "cell_type": "markdown",
   "source": [
    "<h2>We will now split dataset into testing and training splits, Train a random forest model and make predictions with certain features dropped.</h2>\n",
    "<p>We are dropping non-predictive features and non-numerical features</p>\n"
   ],
   "metadata": {
    "collapsed": false
   },
   "id": "5cb48899a4687eaa"
  },
  {
   "cell_type": "code",
   "outputs": [
    {
     "name": "stdout",
     "output_type": "stream",
     "text": [
      "Shape of X: (1993, 101)\n",
      "Length of y: 1993\n"
     ]
    }
   ],
   "source": [
    "X = crime_data.drop('ViolentCrimesPerPop', axis=1).drop('state', axis=1).drop('communityname', axis=1).drop('fold', axis=1).drop('highCrime', axis=1)\n",
    "y = crime_data['highCrime']\n",
    "\n",
    "print(\"Shape of X:\", X.shape)\n",
    "print(\"Length of y:\", len(y))"
   ],
   "metadata": {
    "collapsed": false,
    "ExecuteTime": {
     "end_time": "2024-07-27T18:46:37.335664100Z",
     "start_time": "2024-07-27T18:46:37.280811Z"
    }
   },
   "id": "c3aba960d9cdfa74",
   "execution_count": 197
  },
  {
   "cell_type": "code",
   "outputs": [
    {
     "name": "stdout",
     "output_type": "stream",
     "text": [
      "training set size:  (1594, 101) (1594,)\n",
      "testing set size:  (399, 101) (399,)\n"
     ]
    }
   ],
   "source": [
    "#split dataset into test and train\n",
    "\n",
    "X_train, X_test, y_train, y_test = train_test_split(X, y, test_size=0.2, random_state=97)\n",
    "print(\"training set size: \", X_train.shape, y_train.shape)\n",
    "print(\"testing set size: \", X_test.shape, y_test.shape)"
   ],
   "metadata": {
    "collapsed": false,
    "ExecuteTime": {
     "end_time": "2024-07-27T18:46:37.337658600Z",
     "start_time": "2024-07-27T18:46:37.312725800Z"
    }
   },
   "id": "177afbbc85dbdd11",
   "execution_count": 198
  },
  {
   "cell_type": "markdown",
   "source": [
    "<h1> NOTE: Work has been done to show the max_depth of 3 is where accuracy increases to. This is included below in order to counter overfitting in our randomForestClassifier Model </h1>\n",
    "<h2> We will also train the model using Cross-Validation to ensure feature importances are not dependent on a particular train-test split</h2>"
   ],
   "metadata": {
    "collapsed": false
   },
   "id": "f7bfa2eeb2e74380"
  },
  {
   "cell_type": "code",
   "outputs": [
    {
     "name": "stdout",
     "output_type": "stream",
     "text": [
      "Cross-validation accuracy:  0.8249102656137832\n",
      "Cross-validation precision:  0.7993767949625191\n",
      "Cross-validation recall:  0.7577639751552795\n",
      "Cross-validation F1-score:  0.7766332566292163\n"
     ]
    }
   ],
   "source": [
    "# initialize model with the max_depth of 3 \n",
    "model = RandomForestClassifier(random_state=97, max_depth=3)\n",
    "\n",
    "\n",
    "cv_results = cross_validate(model, X, y, cv=5, return_estimator=True, scoring=['accuracy', 'precision', 'recall', 'f1'])\n",
    "\n",
    "print(\"Cross-validation accuracy: \", np.mean(cv_results['test_accuracy']))\n",
    "print(\"Cross-validation precision: \", np.mean(cv_results['test_precision']))\n",
    "print(\"Cross-validation recall: \", np.mean(cv_results['test_recall']))\n",
    "print(\"Cross-validation F1-score: \", np.mean(cv_results['test_f1']))\n",
    "\n",
    "feature_importances = np.mean([estimator.feature_importances_ for estimator in cv_results['estimator']], axis=0)\n",
    "\n",
    "model.fit(X_train, y_train)\n",
    "y_pred = model.predict(X_test)\n",
    "\n",
    "# test_df = X_test.copy()\n",
    "# test_df['highCrime'] = y_test.values\n",
    "# \n",
    "# pred_df = X_test.copy()\n",
    "# pred_df['pred'] = y_pred\n",
    "# \n",
    "# test_dataset = BinaryLabelDataset(df=test_df, label_names=['highCrime'], protected_attribute_names=['is_privileged'])\n",
    "# pred_dataset = BinaryLabelDataset(df=pred_df, label_names=['pred'], protected_attribute_names=['is_privileged'])\n",
    "# \n",
    "# metrics = ClassificationMetric(test_dataset, pred_dataset,\n",
    "#                               privileged_groups=[{'is_privileged': 1}],  # Example privileged group\n",
    "#                               unprivileged_groups=[{'is_privileged': 1}])  # Example unprivileged groups\n",
    "# \n",
    "# # Print metrics\n",
    "# print(\"Difference in mean outcomes:\", metrics.mean_difference())\n",
    "# print(\"Disparate impact:\", metrics.disparate_impact())\n",
    "# print(\"Equal opportunity difference:\", metrics.equal_opportunity_difference())\n",
    "# print(\"Average odds difference:\", metrics.average_odds_difference())"
   ],
   "metadata": {
    "collapsed": false,
    "ExecuteTime": {
     "end_time": "2024-07-27T18:46:38.784933400Z",
     "start_time": "2024-07-27T18:46:37.329680Z"
    }
   },
   "id": "4d9615a236d7231e",
   "execution_count": 199
  },
  {
   "cell_type": "markdown",
   "source": [
    "<h1> We can see the results above in predicting high crime using a RFC. </h1>\n",
    "<p1> Let's now try to find out the most predictive features in our model returning a high crime classification or not </h1>"
   ],
   "metadata": {
    "collapsed": false
   },
   "id": "a7a3f98e0dc8688d"
  },
  {
   "cell_type": "code",
   "outputs": [
    {
     "data": {
      "text/plain": "<Figure size 800x1200 with 1 Axes>",
      "image/png": "[encoded data removed]"
     },
     "metadata": {},
     "output_type": "display_data"
    }
   ],
   "source": [
    "importance_df = pd.DataFrame({\n",
    "    'Feature': X.columns,\n",
    "    'Importance': feature_importances\n",
    "})\n",
    "importance_df = importance_df.sort_values(by='Importance',ascending=False)\n",
    "top_20_features = importance_df.head(20)\n",
    "\n",
    "#Let's plot feature importances\n",
    "plt.figure(figsize=(8, 12))\n",
    "plt.barh(top_20_features['Feature'], top_20_features['Importance'])\n",
    "plt.xlabel('Importance')\n",
    "plt.ylabel('Feature')\n",
    "plt.yticks(fontsize=8)\n",
    "plt.title('Top 20 Average Feature importance in Random Forest (cross-validation)')\n",
    "plt.gca().invert_yaxis()\n",
    "plt.show()"
   ],
   "metadata": {
    "collapsed": false,
    "ExecuteTime": {
     "end_time": "2024-07-27T18:46:38.958567100Z",
     "start_time": "2024-07-27T18:46:38.785902200Z"
    }
   },
   "id": "1b677cea15fc1ded",
   "execution_count": 200
  },
  {
   "cell_type": "markdown",
   "source": [
    "<h2> As we can see above, we gain crucial information about what our model is prioritizing to make predictions on 'high crime'. </h2>\n",
    "<p> Let's now keep this information in mind as we continue to investigate for bias in our model </p>"
   ],
   "metadata": {
    "collapsed": false
   },
   "id": "6472bc7844a0d25e"
  },
  {
   "cell_type": "markdown",
   "source": [
    "<h1> Investigating Bias </h1>\n",
    "<h2> Let's identify protected attributes based on the project proposal. The attributes I aim to protect are race (racePctWhite, racepctblack, racePctHisp)"
   ],
   "metadata": {
    "collapsed": false
   },
   "id": "fac742d5dcbf352"
  },
  {
   "cell_type": "markdown",
   "source": [],
   "metadata": {
    "collapsed": false
   },
   "id": "22c5e85b88f8af0"
  },
  {
   "cell_type": "markdown",
   "source": [
    "<h1> Let's Start With Bias Towards or Against Certain Races </h1>\n",
    "</h2> First, lets test all instances using a certain race and perform reports on all 3 race classes of importance. </h2>"
   ],
   "metadata": {
    "collapsed": false
   },
   "id": "4474cc970af678be"
  },
  {
   "cell_type": "code",
   "outputs": [
    {
     "name": "stdout",
     "output_type": "stream",
     "text": [
      "performance for racePctWhite:\n",
      "              precision    recall  f1-score   support\n",
      "\n",
      "       False       0.86      0.89      0.87       249\n",
      "        True       0.79      0.74      0.76       140\n",
      "\n",
      "    accuracy                           0.84       389\n",
      "   macro avg       0.82      0.81      0.82       389\n",
      "weighted avg       0.83      0.84      0.83       389\n",
      "\n",
      "performance for racepctblack:\n",
      "              precision    recall  f1-score   support\n",
      "\n",
      "       False       0.66      0.67      0.67        52\n",
      "        True       0.83      0.82      0.83       102\n",
      "\n",
      "    accuracy                           0.77       154\n",
      "   macro avg       0.75      0.75      0.75       154\n",
      "weighted avg       0.77      0.77      0.77       154\n",
      "\n",
      "performance for racePctHisp:\n",
      "              precision    recall  f1-score   support\n",
      "\n",
      "       False       0.75      0.76      0.76        55\n",
      "        True       0.79      0.78      0.79        64\n",
      "\n",
      "    accuracy                           0.77       119\n",
      "   macro avg       0.77      0.77      0.77       119\n",
      "weighted avg       0.77      0.77      0.77       119\n"
     ]
    }
   ],
   "source": [
    "def racePerformance1():\n",
    "    for race in ['racePctWhite', 'racepctblack', 'racePctHisp']:\n",
    "        print(f\"performance for {race}:\")\n",
    "        mask = X_test[race] > 0.1\n",
    "        print(classification_report(y_test[mask], y_pred[mask]))\n",
    "racePerformance1()"
   ],
   "metadata": {
    "collapsed": false,
    "ExecuteTime": {
     "end_time": "2024-07-27T18:46:39.054311600Z",
     "start_time": "2024-07-27T18:46:38.960562400Z"
    }
   },
   "id": "cf82b456a07fe490",
   "execution_count": 201
  },
  {
   "cell_type": "code",
   "outputs": [],
   "source": [],
   "metadata": {
    "collapsed": false,
    "ExecuteTime": {
     "end_time": "2024-07-27T18:46:39.055309100Z",
     "start_time": "2024-07-27T18:46:38.991479400Z"
    }
   },
   "id": "5b862ce2c7bb50d4",
   "execution_count": 201
  },
  {
   "cell_type": "markdown",
   "source": [
    "<h2> Interestingly, it seems that the model in predicting high crime is more accurate in predicting \"no high crime\" for the White class. And following our results, we see the inverse with Black and Hispanic classes. Our model classifies high crime as \"True\" more accurately with the Black and Hispanic classes.  </h2>\n",
    "<h3> This is a problem I want to address with potential re-weighing of these racial classes. It could a problem if our model accurately predicts high crime just because of racial factors. It could also be a case of unequal sample sizes. </h3>"
   ],
   "metadata": {
    "collapsed": false
   },
   "id": "f4976c05d9300c6e"
  },
  {
   "cell_type": "markdown",
   "source": [
    "<h1> lets try training the model again, but this time leave out the race features in our most predictive features. </h1>"
   ],
   "metadata": {
    "collapsed": false
   },
   "id": "bd19ebe75cb415f0"
  },
  {
   "cell_type": "code",
   "outputs": [
    {
     "name": "stdout",
     "output_type": "stream",
     "text": [
      "Cross-validation accuracy:  0.8223964433697308\n",
      "Cross-validation precision:  0.7906411184210118\n",
      "Cross-validation recall:  0.7627329192546584\n",
      "Cross-validation F1-score:  0.7753351090788986\n"
     ]
    }
   ],
   "source": [
    "X = crime_data.drop('ViolentCrimesPerPop', axis=1).drop('state', axis=1).drop('communityname', axis=1).drop('fold', axis=1).drop('highCrime', axis=1).drop('racePctWhite', axis=1).drop('racepctblack', axis=1).drop('racePctHisp', axis=1).drop('is_privileged', axis=1)\n",
    "\n",
    "X_train, X_test, y_train, y_test = train_test_split(X, y, test_size=0.2, random_state=97)\n",
    "\n",
    "model = RandomForestClassifier(random_state=97, max_depth=3)\n",
    "model.fit(X_train, y_train)\n",
    "\n",
    "y_pred = model.predict(X_test)\n",
    "\n",
    "cv_results = cross_validate(model, X, y, cv=5, return_estimator=True, scoring=['accuracy', 'precision', 'recall', 'f1'])\n",
    "\n",
    "print(\"Cross-validation accuracy: \", np.mean(cv_results['test_accuracy']))\n",
    "print(\"Cross-validation precision: \", np.mean(cv_results['test_precision']))\n",
    "print(\"Cross-validation recall: \", np.mean(cv_results['test_recall']))\n",
    "print(\"Cross-validation F1-score: \", np.mean(cv_results['test_f1']))\n",
    "\n",
    "feature_importances = np.mean([estimator.feature_importances_ for estimator in cv_results['estimator']], axis=0)"
   ],
   "metadata": {
    "collapsed": false,
    "ExecuteTime": {
     "end_time": "2024-07-27T18:46:40.257093300Z",
     "start_time": "2024-07-27T18:46:39.009458600Z"
    }
   },
   "id": "21a52372e44a099d",
   "execution_count": 202
  },
  {
   "cell_type": "markdown",
   "source": [
    "<h1> Past Results Compared to New (w/o important race features) </h1>\n",
    "<h3> Cross-validation accuracy:  0.824 -> 0.822 </h3 \n",
    "<h3> Cross-validation precision:  0.799 -> 0.790 </h3>\n",
    "<h3> Cross-validation recall:  0.757 -> 0.762 </h3>\n",
    "<h3> Cross-validation F1-score:  0.776 -> 0.775 </h3>"
   ],
   "metadata": {
    "collapsed": false
   },
   "id": "a542aad76eee053e"
  },
  {
   "cell_type": "markdown",
   "source": [
    "<h2> So overall, our predictive performance went down marginally when taking important race features out of the model. </h2>\n"
   ],
   "metadata": {
    "collapsed": false
   },
   "id": "377e45635b775d5f"
  },
  {
   "cell_type": "markdown",
   "source": [
    "<h1> Lets retrain using reweighted Race classes, and see how our model changes in certain metrics </h1>"
   ],
   "metadata": {
    "collapsed": false
   },
   "id": "6099c04a8db0ceb7"
  },
  {
   "cell_type": "markdown",
   "source": [],
   "metadata": {
    "collapsed": false
   },
   "id": "c1a65e5c0e78c936"
  },
  {
   "cell_type": "code",
   "outputs": [
    {
     "name": "stdout",
     "output_type": "stream",
     "text": [
      "Training set size: (1594, 100) (1594,)\n",
      "Testing set size: (399, 100) (399,)\n",
      "Cross-validation accuracy: 0.8223964433697308\n",
      "Cross-validation precision: 0.7906411184210118\n",
      "Cross-validation recall: 0.7627329192546584\n",
      "Cross-validation F1-score: 0.7753351090788986\n"
     ]
    },
    {
     "name": "stderr",
     "output_type": "stream",
     "text": [
      "C:\\Users\\ryand\\AppData\\Roaming\\Python\\Python310\\site-packages\\aif360\\algorithms\\preprocessing\\reweighing.py:66: RuntimeWarning: divide by zero encountered in scalar divide\n",
      "  self.w_p_fav = n_fav*n_p / (n*n_p_fav)\n",
      "C:\\Users\\ryand\\AppData\\Roaming\\Python\\Python310\\site-packages\\aif360\\algorithms\\preprocessing\\reweighing.py:68: RuntimeWarning: invalid value encountered in scalar divide\n",
      "  self.w_up_fav = n_fav*n_up / (n*n_up_fav)\n",
      "C:\\Users\\ryand\\AppData\\Roaming\\Python\\Python310\\site-packages\\aif360\\algorithms\\preprocessing\\reweighing.py:69: RuntimeWarning: invalid value encountered in scalar divide\n",
      "  self.w_up_unfav = n_unfav*n_up / (n*n_up_unfav)\n"
     ]
    },
    {
     "name": "stdout",
     "output_type": "stream",
     "text": [
      "Accuracy after reweighing: 0.8546365914786967\n",
      "Precision after reweighing: 0.8343558282208589\n",
      "Recall after reweighing: 0.8143712574850299\n",
      "F1-score after reweighing: 0.8242424242424242\n"
     ]
    }
   ],
   "source": [
    "from sklearn.metrics import precision_score, recall_score, f1_score\n",
    "\n",
    "# Reweighing the training data\n",
    "# Protected attributes\n",
    "protected_attributes = crime_data[['racePctWhite', 'racepctblack', 'racePctHisp']]\n",
    "\n",
    "# Combine features and target for AIF360\n",
    "data = X.copy()\n",
    "data['highCrime'] = y\n",
    "data['racePctWhite'] = protected_attributes['racePctWhite']\n",
    "data['racepctblack'] = protected_attributes['racepctblack']\n",
    "data['racePctHisp'] = protected_attributes['racePctHisp']\n",
    "\n",
    "# Create AIF360 BinaryLabelDataset\n",
    "dataset = BinaryLabelDataset(\n",
    "    df=data,\n",
    "    label_names=['highCrime'],\n",
    "    protected_attribute_names=['racePctWhite', 'racepctblack', 'racePctHisp']\n",
    ")\n",
    "\n",
    "# Split dataset into train and test\n",
    "train, test = dataset.split([0.8], shuffle=True, seed=97)\n",
    "X_train = train.features\n",
    "y_train = train.labels.ravel()\n",
    "prot_train = train.protected_attributes\n",
    "X_test = test.features\n",
    "y_test = test.labels.ravel()\n",
    "prot_test = test.protected_attributes\n",
    "\n",
    "print(\"Training set size:\", X_train.shape, y_train.shape)\n",
    "print(\"Testing set size:\", X_test.shape, y_test.shape)\n",
    "\n",
    "# Initialize model with the max_depth of 3\n",
    "model = RandomForestClassifier(random_state=97, max_depth=3)\n",
    "\n",
    "# Cross-validate without reweighing\n",
    "cv_results = cross_validate(model, X, y, cv=5, return_estimator=True, scoring=['accuracy', 'precision', 'recall', 'f1'])\n",
    "\n",
    "print(\"Cross-validation accuracy:\", np.mean(cv_results['test_accuracy']))\n",
    "print(\"Cross-validation precision:\", np.mean(cv_results['test_precision']))\n",
    "print(\"Cross-validation recall:\", np.mean(cv_results['test_recall']))\n",
    "print(\"Cross-validation F1-score:\", np.mean(cv_results['test_f1']))\n",
    "\n",
    "# Reweighing the training data\n",
    "RW = Reweighing(unprivileged_groups=[{'racePctWhite': 0, 'racepctblack': 1, 'racePctHisp': 1}],\n",
    "                privileged_groups=[{'racePctWhite': 1, 'racepctblack': 0, 'racePctHisp': 0}])\n",
    "train_reweighed = RW.fit_transform(train)\n",
    "\n",
    "# Retrain the model with reweighted data\n",
    "model.fit(X_train, y_train, sample_weight=train_reweighed.instance_weights)\n",
    "y_pred = model.predict(X_test)\n",
    "\n",
    "# Evaluate the model\n",
    "accuracy = accuracy_score(y_test, y_pred)\n",
    "precision = precision_score(y_test, y_pred)\n",
    "recall = recall_score(y_test, y_pred)\n",
    "f1 = f1_score(y_test, y_pred)\n",
    "\n",
    "print(f\"Accuracy after reweighing: {accuracy}\")\n",
    "print(f\"Precision after reweighing: {precision}\")\n",
    "print(f\"Recall after reweighing: {recall}\")\n",
    "print(f\"F1-score after reweighing: {f1}\")\n",
    "\n"
   ],
   "metadata": {
    "collapsed": false,
    "ExecuteTime": {
     "end_time": "2024-07-27T18:46:41.478824400Z",
     "start_time": "2024-07-27T18:46:40.263077300Z"
    }
   },
   "id": "30d54068c952f125",
   "execution_count": 203
  },
  {
   "cell_type": "markdown",
   "source": [
    "<h1> Let's now run all three race classes and see their performance after reweighing. </h1>"
   ],
   "metadata": {
    "collapsed": false
   },
   "id": "c37c62f8b47cfeef"
  },
  {
   "cell_type": "code",
   "outputs": [
    {
     "name": "stdout",
     "output_type": "stream",
     "text": [
      "Performance for racePctWhite:\n",
      "              precision    recall  f1-score   support\n",
      "\n",
      "         0.0       0.87      0.88      0.88       230\n",
      "         1.0       0.82      0.80      0.81       156\n",
      "\n",
      "    accuracy                           0.85       386\n",
      "   macro avg       0.84      0.84      0.84       386\n",
      "weighted avg       0.85      0.85      0.85       386\n",
      "\n",
      "Performance for racepctblack:\n",
      "              precision    recall  f1-score   support\n",
      "\n",
      "         0.0       0.90      0.70      0.79        50\n",
      "         1.0       0.88      0.96      0.92       110\n",
      "\n",
      "    accuracy                           0.88       160\n",
      "   macro avg       0.89      0.83      0.85       160\n",
      "weighted avg       0.88      0.88      0.88       160\n",
      "\n",
      "Performance for racePctHisp:\n",
      "              precision    recall  f1-score   support\n",
      "\n",
      "         0.0       0.74      0.64      0.69        53\n",
      "         1.0       0.78      0.85      0.81        78\n",
      "\n",
      "    accuracy                           0.76       131\n",
      "   macro avg       0.76      0.74      0.75       131\n",
      "weighted avg       0.76      0.76      0.76       131\n"
     ]
    }
   ],
   "source": [
    "from sklearn.metrics import classification_report\n",
    "\n",
    "def racePerformance2():\n",
    "    for race, index in zip(['racePctWhite', 'racepctblack', 'racePctHisp'], [0, 1, 2]):\n",
    "        print(f\"Performance for {race}:\")\n",
    "        mask = prot_test[:, index] > 0.1  # 0.1 threshold\n",
    "        print(classification_report(y_test[mask], y_pred[mask]))\n",
    "\n",
    "racePerformance2()\n"
   ],
   "metadata": {
    "collapsed": false,
    "ExecuteTime": {
     "end_time": "2024-07-27T18:46:41.513731600Z",
     "start_time": "2024-07-27T18:46:41.480818900Z"
    }
   },
   "id": "b8ec0eb44b7e1200",
   "execution_count": 204
  },
  {
   "cell_type": "code",
   "outputs": [],
   "source": [],
   "metadata": {
    "collapsed": false,
    "ExecuteTime": {
     "end_time": "2024-07-27T18:46:41.526725200Z",
     "start_time": "2024-07-27T18:46:41.510739500Z"
    }
   },
   "id": "ee873d818fa1f53e",
   "execution_count": 204
  }
 ],
 "metadata": {
  "kernelspec": {
   "display_name": "Python 3",
   "language": "python",
   "name": "python3"
  },
  "language_info": {
   "codemirror_mode": {
    "name": "ipython",
    "version": 2
   },
   "file_extension": ".py",
   "mimetype": "text/x-python",
   "name": "python",
   "nbconvert_exporter": "python",
   "pygments_lexer": "ipython2",
   "version": "2.7.6"
  }
 },
 "nbformat": 4,
 "nbformat_minor": 5
}
